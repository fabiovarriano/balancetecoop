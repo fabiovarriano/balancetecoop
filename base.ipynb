{
 "cells": [
  {
   "cell_type": "code",
   "execution_count": 19,
   "metadata": {},
   "outputs": [],
   "source": [
    "#Bibliotecas:\n",
    "import pandas as pd \n",
    "import glob\n",
    "import os\n",
    "import dtale\n"
   ]
  },
  {
   "cell_type": "code",
   "execution_count": 25,
   "metadata": {},
   "outputs": [
    {
     "name": "stderr",
     "output_type": "stream",
     "text": [
      "C:\\Users\\fabio\\AppData\\Local\\Temp\\ipykernel_16868\\3286068093.py:6: DtypeWarning:\n",
      "\n",
      "Columns (0,1,2,3,5,6,8) have mixed types. Specify dtype option on import or set low_memory=False.\n",
      "\n",
      "C:\\Users\\fabio\\AppData\\Local\\Temp\\ipykernel_16868\\3286068093.py:6: DtypeWarning:\n",
      "\n",
      "Columns (0,1,2,3,5,6,8) have mixed types. Specify dtype option on import or set low_memory=False.\n",
      "\n",
      "C:\\Users\\fabio\\AppData\\Local\\Temp\\ipykernel_16868\\3286068093.py:6: DtypeWarning:\n",
      "\n",
      "Columns (0,1,2,3,5,6,8) have mixed types. Specify dtype option on import or set low_memory=False.\n",
      "\n",
      "C:\\Users\\fabio\\AppData\\Local\\Temp\\ipykernel_16868\\3286068093.py:6: DtypeWarning:\n",
      "\n",
      "Columns (0,1,2,3,5,6,8) have mixed types. Specify dtype option on import or set low_memory=False.\n",
      "\n",
      "C:\\Users\\fabio\\AppData\\Local\\Temp\\ipykernel_16868\\3286068093.py:6: DtypeWarning:\n",
      "\n",
      "Columns (0,1,2,3,5,6,8) have mixed types. Specify dtype option on import or set low_memory=False.\n",
      "\n",
      "C:\\Users\\fabio\\AppData\\Local\\Temp\\ipykernel_16868\\3286068093.py:6: DtypeWarning:\n",
      "\n",
      "Columns (0,1,2,3,5,6,8) have mixed types. Specify dtype option on import or set low_memory=False.\n",
      "\n",
      "C:\\Users\\fabio\\AppData\\Local\\Temp\\ipykernel_16868\\3286068093.py:6: DtypeWarning:\n",
      "\n",
      "Columns (0,1,2,3,5,6,8) have mixed types. Specify dtype option on import or set low_memory=False.\n",
      "\n",
      "C:\\Users\\fabio\\AppData\\Local\\Temp\\ipykernel_16868\\3286068093.py:6: DtypeWarning:\n",
      "\n",
      "Columns (0,1,2,3,5,6,8) have mixed types. Specify dtype option on import or set low_memory=False.\n",
      "\n",
      "C:\\Users\\fabio\\AppData\\Local\\Temp\\ipykernel_16868\\3286068093.py:6: DtypeWarning:\n",
      "\n",
      "Columns (0,1,2,3,5,6,8) have mixed types. Specify dtype option on import or set low_memory=False.\n",
      "\n",
      "C:\\Users\\fabio\\AppData\\Local\\Temp\\ipykernel_16868\\3286068093.py:6: DtypeWarning:\n",
      "\n",
      "Columns (0,1,2,3,5,6,8) have mixed types. Specify dtype option on import or set low_memory=False.\n",
      "\n"
     ]
    }
   ],
   "source": [
    "# função para carregar todos os arquivos de uma só vez:\n",
    "def carregar_arquivos_pasta(caminho_pasta):\n",
    "    arquivos_csv = glob.glob(os.path.join(caminho_pasta, \"*.csv\"))\n",
    "    df_combinado = pd.DataFrame()\n",
    "    for arquivo in arquivos_csv:\n",
    "        df = pd.read_csv(arquivo, header=None, sep=\";\")\n",
    "        df_combinado = pd.concat([df_combinado, df], ignore_index=True)\n",
    "\n",
    "    return df_combinado\n",
    "caminho_da_pasta = r\"D:\\BalanceteCoop\\balancetes\"\n",
    "df = carregar_arquivos_pasta(caminho_da_pasta)\n",
    "df.columns = df.iloc[0]\n",
    "df = df[1:]\n"
   ]
  },
  {
   "cell_type": "code",
   "execution_count": 26,
   "metadata": {},
   "outputs": [],
   "source": [
    "# Tratamento dos dados \n",
    "# Remover colunas duplicadas, já que foram carregados os 12 cabeçalhos do arquivo csv\n",
    "df = df.drop_duplicates()\n",
    "# Excluir colunas : agencia , COD_CONGL, NOME_CONGL, TAXONOMIA, \n",
    "df = df[['DATA_BASE', 'DOCUMENTO', 'CNPJ', 'NOME_INSTITUICAO', 'CONTA', 'NOME_CONTA', 'SALDO']]\n",
    "# transformar colunas:\n",
    "df = df.loc[df['DATA_BASE'] != 'DATA_BASE']\n",
    "# datatime:\n",
    "df['DATA_BASE'] = pd.to_datetime(df['DATA_BASE'], format='%Y%m')\n",
    "# numero float:\n",
    "df['SALDO'] = df['SALDO'].str.replace(',', '.').astype(float)"
   ]
  },
  {
   "cell_type": "code",
   "execution_count": 56,
   "metadata": {},
   "outputs": [],
   "source": [
    "# testar somente o sicoob agrocredi para validar as operações\n",
    "agrocredi = df.loc[(df['NOME_INSTITUICAO'] == 'CC AGROCREDI LTDA') & (df['DATA_BASE'] == '2023-01-01')]\n"
   ]
  },
  {
   "cell_type": "code",
   "execution_count": 60,
   "metadata": {},
   "outputs": [],
   "source": [
    "# salvar agrocredi para analisar \n",
    "agrocredi.to_csv('agrocredi.csv')"
   ]
  },
  {
   "cell_type": "code",
   "execution_count": 58,
   "metadata": {},
   "outputs": [
    {
     "data": {
      "text/plain": [
       "array(['10000007', '11000006', '11100009', '13000004', '13100007',\n",
       "       '14000003', '14500008', '16000001', '16100004', '16200007',\n",
       "       '16300000', '16900008', '18000009', '18100002', '18300008',\n",
       "       '18800003', '18900006', '19000008', '19800002', '19900005',\n",
       "       '20000004', '22000002', '22500007', '30000001', '30100004',\n",
       "       '30400003', '30500006', '30800005', '30900008', '31000000',\n",
       "       '31100003', '31200006', '31300009', '31400002', '31500005',\n",
       "       '31600008', '31700001', '31800004', '31900007', '39999993',\n",
       "       '40000008', '41000007', '41100000', '41400009', '41500002',\n",
       "       '43000005', '43200001', '44000004', '44300003', '45000003',\n",
       "       '45100006', '46000002', '46400004', '49000009', '49100002',\n",
       "       '49300008', '49400001', '49900006', '60000002', '61000001',\n",
       "       '61100004', '61500006', '61700002', '70000009', '71000008',\n",
       "       '71100001', '71500003', '71700009', '71900005', '73000006',\n",
       "       '73900003', '80000006', '81000005', '81100008', '81200001',\n",
       "       '81700006', '81800009', '81900002', '83000003', '83900000',\n",
       "       '89000007', '89400009', '90000003', '90100006', '90400005',\n",
       "       '90500008', '90800007', '90900000', '91000002', '91100005',\n",
       "       '99999995'], dtype=object)"
      ]
     },
     "execution_count": 58,
     "metadata": {},
     "output_type": "execute_result"
    }
   ],
   "source": [
    "\n",
    "contas = ['10000007', '16000001', '16100004', '16200007',  '16300000', '16900008',\n",
    "          '18000009', '18100002', ]\n"
   ]
  }
 ],
 "metadata": {
  "kernelspec": {
   "display_name": "Python 3",
   "language": "python",
   "name": "python3"
  },
  "language_info": {
   "codemirror_mode": {
    "name": "ipython",
    "version": 3
   },
   "file_extension": ".py",
   "mimetype": "text/x-python",
   "name": "python",
   "nbconvert_exporter": "python",
   "pygments_lexer": "ipython3",
   "version": "3.11.8"
  }
 },
 "nbformat": 4,
 "nbformat_minor": 2
}
